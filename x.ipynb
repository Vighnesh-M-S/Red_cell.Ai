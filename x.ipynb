{
 "cells": [
  {
   "cell_type": "code",
   "execution_count": 4,
   "metadata": {},
   "outputs": [
    {
     "name": "stdout",
     "output_type": "stream",
     "text": [
      "Images renamed successfully.\n"
     ]
    }
   ],
   "source": [
    "import os\n",
    "\n",
    "# Specify the directory containing the images\n",
    "directory = '/Users/vighneshms/Downloads/Red_cell.Ai/DataSets/archive2/dataset-master/dataset-master/Annotations'\n",
    "\n",
    "# Start the renaming sequence from 121\n",
    "start_number = 121\n",
    "\n",
    "# Iterate through the files in the directory\n",
    "for filename in os.listdir(directory):\n",
    "    # Check if the file has the naming pattern 'image-#.png'\n",
    "    # if filename.startswith('BloodImage_'):\n",
    "    if filename.startswith('BloodImage_') and filename.endswith('.xml'):\n",
    "        # Extract the image number from the original filename\n",
    "        old_file_path = os.path.join(directory, filename)\n",
    "        \n",
    "        # Create the new filename with 'images-#' and incrementing numbers starting from 121\n",
    "        new_filename = f'images-{start_number}.xml'\n",
    "        new_file_path = os.path.join(directory, new_filename)\n",
    "        \n",
    "        # Rename the file\n",
    "        os.rename(old_file_path, new_file_path)\n",
    "        \n",
    "        # Increment the start number for the next image\n",
    "        start_number += 1\n",
    "\n",
    "print(\"Images renamed successfully.\")\n"
   ]
  },
  {
   "cell_type": "code",
   "execution_count": 3,
   "metadata": {},
   "outputs": [
    {
     "name": "stdout",
     "output_type": "stream",
     "text": [
      "CSV file generated successfully.\n"
     ]
    }
   ],
   "source": [
    "import os\n",
    "import xml.etree.ElementTree as ET\n",
    "import csv\n",
    "\n",
    "# Path to the folder containing XML files\n",
    "xml_folder = '/Users/vighneshms/Downloads/Red_cell.Ai/DataSets/archive2/dataset-master/dataset-master/Annotations'\n",
    "output_csv = 'output.csv'\n",
    "\n",
    "# Open CSV file for writing\n",
    "with open(output_csv, mode='w', newline='') as file:\n",
    "    writer = csv.writer(file)\n",
    "    # Write the header row\n",
    "    writer.writerow(['image', 'xmin', 'ymin', 'xmax', 'ymax', 'label'])\n",
    "\n",
    "    # Iterate over XML files in the folder\n",
    "    for xml_file in os.listdir(xml_folder):\n",
    "        if xml_file.endswith('.xml'):\n",
    "            # Parse the XML file\n",
    "            tree = ET.parse(os.path.join(xml_folder, xml_file))\n",
    "            root = tree.getroot()\n",
    "\n",
    "            # Extract the image filename from the XML\n",
    "            image = root.find('filename').text + '.jpg'\n",
    "\n",
    "            # Iterate over all objects in the XML\n",
    "            for obj in root.findall('object'):\n",
    "                label = obj.find('name').text\n",
    "                bndbox = obj.find('bndbox')\n",
    "\n",
    "                # Extract bounding box coordinates\n",
    "                xmin = bndbox.find('xmin').text\n",
    "                ymin = bndbox.find('ymin').text\n",
    "                xmax = bndbox.find('xmax').text\n",
    "                ymax = bndbox.find('ymax').text\n",
    "\n",
    "                # Write row to CSV\n",
    "                writer.writerow([image, xmin, ymin, xmax, ymax, label])\n",
    "\n",
    "print(\"CSV file generated successfully.\")\n"
   ]
  },
  {
   "cell_type": "code",
   "execution_count": 7,
   "metadata": {},
   "outputs": [
    {
     "name": "stdout",
     "output_type": "stream",
     "text": [
      "CSV file generated successfully.\n"
     ]
    }
   ],
   "source": [
    "import os\n",
    "import xml.etree.ElementTree as ET\n",
    "import csv\n",
    "\n",
    "# Path to the folder containing XML files\n",
    "xml_folder = '/Users/vighneshms/Downloads/Red_cell.Ai/DataSets/archive2/dataset-master/dataset-master/Annotations'\n",
    "output_csv = 'output.csv'\n",
    "\n",
    "# Open CSV file for writing\n",
    "with open(output_csv, mode='w', newline='') as file:\n",
    "    writer = csv.writer(file)\n",
    "    # Write the header row\n",
    "    writer.writerow(['image', 'xmin', 'ymin', 'xmax', 'ymax', 'label'])\n",
    "\n",
    "    # Iterate over XML files in the folder\n",
    "    for xml_file in os.listdir(xml_folder):\n",
    "        if xml_file.endswith('.xml'):\n",
    "            # Parse the XML file\n",
    "            tree = ET.parse(os.path.join(xml_folder, xml_file))\n",
    "            root = tree.getroot()\n",
    "\n",
    "            # Use the XML filename as the image name (without the '.xml' extension)\n",
    "            image = os.path.splitext(xml_file)[0] + '.png'\n",
    "\n",
    "            # Iterate over all objects in the XML\n",
    "            for obj in root.findall('object'):\n",
    "                label = obj.find('name').text.lower()\n",
    "                bndbox = obj.find('bndbox')\n",
    "\n",
    "                # Extract bounding box coordinates\n",
    "                xmin = bndbox.find('xmin').text\n",
    "                ymin = bndbox.find('ymin').text\n",
    "                xmax = bndbox.find('xmax').text\n",
    "                ymax = bndbox.find('ymax').text\n",
    "\n",
    "                # Write row to CSV\n",
    "                writer.writerow([image, xmin, ymin, xmax, ymax, label])\n",
    "\n",
    "print(\"CSV file generated successfully.\")\n"
   ]
  }
 ],
 "metadata": {
  "kernelspec": {
   "display_name": "Python 3",
   "language": "python",
   "name": "python3"
  },
  "language_info": {
   "codemirror_mode": {
    "name": "ipython",
    "version": 3
   },
   "file_extension": ".py",
   "mimetype": "text/x-python",
   "name": "python",
   "nbconvert_exporter": "python",
   "pygments_lexer": "ipython3",
   "version": "3.9.6"
  }
 },
 "nbformat": 4,
 "nbformat_minor": 2
}
